{
 "cells": [
  {
   "cell_type": "markdown",
   "id": "87c8b235-23a1-4704-803e-7d9fee4c1b7e",
   "metadata": {},
   "source": [
    "Write a code that takes a dictionary as input and returns a sorted version of it based on the values. You\n",
    "can choose whether to sort in ascending or descending order"
   ]
  },
  {
   "cell_type": "code",
   "execution_count": 44,
   "id": "a737b8eb-deaf-47fb-9abf-00f66b91c1b9",
   "metadata": {},
   "outputs": [
    {
     "name": "stdout",
     "output_type": "stream",
     "text": [
      "dictionary containing the unsorted items {'a': 1, 'b': 2, 'c': 5, 'd': 3}\n",
      "-----------------------------------------------------\n",
      "sorted value in the dic {'a': 1, 'b': 2, 'd': 3, 'c': 5}\n"
     ]
    }
   ],
   "source": [
    "my_dic = {'a':1,\n",
    "         'b':2,\n",
    "         'c': 5,\n",
    "         'd': 3}\n",
    "print(\"dictionary containing the unsorted items\",my_dic)\n",
    "print(\"-----------------------------------------------------\")\n",
    "sort_value_in_dic = dict(sorted(my_dic.items(), key=lambda item: item[1]))\n",
    "print(\"sorted value in the dic\",sort_value_in_dic)\n",
    "        "
   ]
  },
  {
   "cell_type": "code",
   "execution_count": 35,
   "id": "e3450246-ee0b-4f48-bcef-c0e47a55614b",
   "metadata": {},
   "outputs": [
    {
     "name": "stdout",
     "output_type": "stream",
     "text": [
      "dictionary containing the unsorted items {'a': 1, 'b': 2, 'c': 5, 'd': 3}\n",
      "-----------------------------------------------------\n"
     ]
    },
    {
     "name": "stdin",
     "output_type": "stream",
     "text": [
      "Enter 'asc' for ascending order or 'desc' for descending order:  desc\n"
     ]
    },
    {
     "name": "stdout",
     "output_type": "stream",
     "text": [
      "{'c': 5, 'd': 3, 'b': 2, 'a': 1}\n"
     ]
    }
   ],
   "source": [
    "my_dic = {'a':1,\n",
    "         'b':2,\n",
    "         'c': 5,\n",
    "         'd': 3}\n",
    "print(\"dictionary containing the unsorted items\",my_dic)\n",
    "print(\"-----------------------------------------------------\")\n",
    "order = input(\"Enter 'asc' for ascending order or 'desc' for descending order: \").strip().lower()\n",
    "if order== 'asc':\n",
    "    sort_value = dict(sorted(my_dic.items(), key= lambda item: item[1]))\n",
    "elif order == 'desc':\n",
    "    sort_value = dict(sorted(my_dic.items(), key= lambda item: item[1],reverse = True))\n",
    "else:\n",
    "    print(\"Invalid input! Defaulting to ascending order.\")\n",
    "    sorted_dict = dict(sorted(my_dict.items(), key=lambda item: item[1]))\n",
    "print(sort_value)"
   ]
  },
  {
   "cell_type": "code",
   "execution_count": null,
   "id": "def92dbc-c82b-4590-bb61-8c53be57e0e8",
   "metadata": {},
   "outputs": [],
   "source": []
  }
 ],
 "metadata": {
  "kernelspec": {
   "display_name": "Python 3 (ipykernel)",
   "language": "python",
   "name": "python3"
  },
  "language_info": {
   "codemirror_mode": {
    "name": "ipython",
    "version": 3
   },
   "file_extension": ".py",
   "mimetype": "text/x-python",
   "name": "python",
   "nbconvert_exporter": "python",
   "pygments_lexer": "ipython3",
   "version": "3.10.8"
  }
 },
 "nbformat": 4,
 "nbformat_minor": 5
}
