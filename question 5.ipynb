{
 "cells": [
  {
   "cell_type": "markdown",
   "id": "1676215d-36fc-4d22-bc2e-0ab3d4901cf3",
   "metadata": {},
   "source": [
    "\u0012 Write a code to find all occurrences of a given substring within another strings"
   ]
  },
  {
   "cell_type": "code",
   "execution_count": 1,
   "id": "9fe78c17-e5d5-49fe-9be1-8f8516ebc202",
   "metadata": {},
   "outputs": [
    {
     "name": "stdout",
     "output_type": "stream",
     "text": [
      "Occurrences of \"abra\" in \"abracadabra\": [0, 7]\n"
     ]
    }
   ],
   "source": [
    "main_string = \"abracadabra\"\n",
    "sub_string = \"abra\"\n",
    "\n",
    "# List to store the starting indices of all occurrences\n",
    "occurrences = []\n",
    "\n",
    "# Lengths of the main string and the substring\n",
    "len_main = len(main_string)\n",
    "len_sub = len(sub_string)\n",
    "\n",
    "# Loop through the main string\n",
    "for i in range(len_main - len_sub + 1):\n",
    "    # Check if the substring matches the part of the main string starting at index i\n",
    "    if main_string[i:i+len_sub] == sub_string:\n",
    "        occurrences.append(i)\n",
    "\n",
    "# Print the result\n",
    "print(f'Occurrences of \"{sub_string}\" in \"{main_string}\": {occurrences}')"
   ]
  },
  {
   "cell_type": "code",
   "execution_count": 1,
   "id": "c1e3952e-b487-41b4-8186-43799382abc4",
   "metadata": {},
   "outputs": [
    {
     "name": "stdout",
     "output_type": "stream",
     "text": [
      "Occurrences of \"abra\" in \"abracadabra\": [0, 7, -1]\n"
     ]
    }
   ],
   "source": [
    "main_string = \"abracadabra\"\n",
    "sub_string = \"abra\"\n",
    "occurrences = []\n",
    "start = 0\n",
    "while True:\n",
    "    # Find the next occurrence of the substring\n",
    "    index= main_string.find(sub_string,start)\n",
    "    occurrences.append(index)\n",
    "    # If find() returns -1, it means the substring is not found\n",
    "    if index == -1:\n",
    "        break\n",
    "        # Move the starting position for the next search\n",
    "        # Increment by 1 to find overlapping occurrences\n",
    "    start = index + 1\n",
    "    \n",
    "print(f'Occurrences of \"{sub_string}\" in \"{main_string}\": {occurrences}')"
   ]
  },
  {
   "cell_type": "code",
   "execution_count": null,
   "id": "d410e41d-d220-4149-ae7f-be28ccc9f04b",
   "metadata": {},
   "outputs": [],
   "source": []
  }
 ],
 "metadata": {
  "kernelspec": {
   "display_name": "Python 3 (ipykernel)",
   "language": "python",
   "name": "python3"
  },
  "language_info": {
   "codemirror_mode": {
    "name": "ipython",
    "version": 3
   },
   "file_extension": ".py",
   "mimetype": "text/x-python",
   "name": "python",
   "nbconvert_exporter": "python",
   "pygments_lexer": "ipython3",
   "version": "3.10.8"
  }
 },
 "nbformat": 4,
 "nbformat_minor": 5
}
