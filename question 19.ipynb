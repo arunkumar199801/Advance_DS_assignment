{
 "cells": [
  {
   "cell_type": "markdown",
   "id": "db2ea4a3-d235-47d3-89ab-4c34df58b827",
   "metadata": {},
   "source": [
    "Create a code to find the union of two lists without duplicate ?"
   ]
  },
  {
   "cell_type": "raw",
   "id": "3dc9161a-c041-45cc-bb68-cb69c4aaa72c",
   "metadata": {},
   "source": [
    "To find the union of two lists without duplicates, you combine all the elements from both lists and remove any duplicates. For example, if you have the lists [1, 2, 3, 4] and [3, 4, 5, 6], the union without duplicates would be [1, 2, 3, 4, 5, 6]."
   ]
  },
  {
   "cell_type": "code",
   "execution_count": 10,
   "id": "2ecd50c8-0934-463d-9bf0-d838af4ca17c",
   "metadata": {},
   "outputs": [
    {
     "data": {
      "text/plain": [
       "[1, 2, 3, 4, 5, 6]"
      ]
     },
     "execution_count": 10,
     "metadata": {},
     "output_type": "execute_result"
    }
   ],
   "source": [
    "list1 =[1, 2, 3, 4]\n",
    "list2 = [3, 4, 5, 6]\n",
    "list3 = list1 + list2\n",
    "s =set(list3)\n",
    "list3 = list(s)\n",
    "list3\n"
   ]
  },
  {
   "cell_type": "code",
   "execution_count": null,
   "id": "180674aa-40b0-40cf-b9a4-9901af868978",
   "metadata": {},
   "outputs": [],
   "source": []
  }
 ],
 "metadata": {
  "kernelspec": {
   "display_name": "Python 3 (ipykernel)",
   "language": "python",
   "name": "python3"
  },
  "language_info": {
   "codemirror_mode": {
    "name": "ipython",
    "version": 3
   },
   "file_extension": ".py",
   "mimetype": "text/x-python",
   "name": "python",
   "nbconvert_exporter": "python",
   "pygments_lexer": "ipython3",
   "version": "3.10.8"
  }
 },
 "nbformat": 4,
 "nbformat_minor": 5
}
