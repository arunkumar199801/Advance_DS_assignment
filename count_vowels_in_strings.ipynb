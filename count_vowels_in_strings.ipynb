{
 "cells": [
  {
   "cell_type": "raw",
   "id": "e6754d06-aa5e-4111-a643-4d4743b6f291",
   "metadata": {},
   "source": [
    "Write a Code to Count the number of vowels in a strings"
   ]
  },
  {
   "cell_type": "code",
   "execution_count": 35,
   "id": "0d671b0c-7f9f-46de-aa99-890365fec8e5",
   "metadata": {},
   "outputs": [
    {
     "name": "stdout",
     "output_type": "stream",
     "text": [
      "Available string:- Arun Kumar Shrivastav\n",
      "ALL Vowels in lower and upper case:- aeiouAEIOU\n",
      "vowels value in string are:- A\n",
      "vowels value in string are:- u\n",
      "vowels value in string are:- u\n",
      "vowels value in string are:- a\n",
      "vowels value in string are:- i\n",
      "vowels value in string are:- a\n",
      "vowels value in string are:- a\n",
      "Number of vowels in strings are:- 7\n"
     ]
    }
   ],
   "source": [
    "strings = \"Arun Kumar Shrivastav\"\n",
    "print('Available string:-', strings)\n",
    "vowels = 'aeiouAEIOU'\n",
    "print(\"ALL Vowels in lower and upper case:-\", vowels)\n",
    "count = 0\n",
    "for count_vowel in strings:\n",
    "    if count_vowel in vowels:\n",
    "        count += 1\n",
    "        print(\"vowels value in string are:-\", count_vowel)\n",
    "print(\"Number of vowels in strings are:-\", count)"
   ]
  },
  {
   "cell_type": "code",
   "execution_count": null,
   "id": "655c8487-a788-4033-8de2-262b73fd2f3d",
   "metadata": {},
   "outputs": [],
   "source": []
  }
 ],
 "metadata": {
  "kernelspec": {
   "display_name": "Python 3 (ipykernel)",
   "language": "python",
   "name": "python3"
  },
  "language_info": {
   "codemirror_mode": {
    "name": "ipython",
    "version": 3
   },
   "file_extension": ".py",
   "mimetype": "text/x-python",
   "name": "python",
   "nbconvert_exporter": "python",
   "pygments_lexer": "ipython3",
   "version": "3.10.8"
  }
 },
 "nbformat": 4,
 "nbformat_minor": 5
}
