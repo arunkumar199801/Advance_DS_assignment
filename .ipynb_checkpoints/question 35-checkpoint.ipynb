{
 "cells": [
  {
   "cell_type": "markdown",
   "id": "b0b83b5c-deb3-49ba-bb09-7f8caefb9636",
   "metadata": {},
   "source": [
    "Write a code that inverts a dictionary swapping keys and values. Ensure that the inverted dictionary\n",
    "correctly handles cases where multiple keys have the same value by storing the keys as a list in the\n",
    "inverted dictionary"
   ]
  },
  {
   "cell_type": "code",
   "execution_count": 10,
   "id": "ef255bf5-06ce-4662-830f-d4b3495261c0",
   "metadata": {},
   "outputs": [
    {
     "name": "stdout",
     "output_type": "stream",
     "text": [
      "{'apple': 1, 'banana': 2, 'cherry': 1, 'date': 3, 'elderberry': 2}\n",
      "--------------------------------------------------------------------\n",
      "{1: ['apple', 'cherry'], 2: ['banana', 'elderberry'], 3: ['date']}\n"
     ]
    }
   ],
   "source": [
    "original_dic= {\n",
    "    'apple': 1,\n",
    "    'banana': 2,\n",
    "    'cherry': 1,\n",
    "    'date': 3,\n",
    "    'elderberry': 2\n",
    "}\n",
    "print(original_dic)\n",
    "print(\"--------------------------------------------------------------------\")\n",
    "inverted_dic = {}\n",
    "for key,value in original_dic.items():\n",
    "    if value in inverted_dic:\n",
    "        inverted_dic[value].append(key)\n",
    "    else:\n",
    "         inverted_dic[value] = [key]\n",
    "print(inverted_dic)"
   ]
  },
  {
   "cell_type": "code",
   "execution_count": null,
   "id": "d7193774-edd7-481f-9ad1-159ed6bc13f2",
   "metadata": {},
   "outputs": [],
   "source": []
  }
 ],
 "metadata": {
  "kernelspec": {
   "display_name": "Python 3 (ipykernel)",
   "language": "python",
   "name": "python3"
  },
  "language_info": {
   "codemirror_mode": {
    "name": "ipython",
    "version": 3
   },
   "file_extension": ".py",
   "mimetype": "text/x-python",
   "name": "python",
   "nbconvert_exporter": "python",
   "pygments_lexer": "ipython3",
   "version": "3.10.8"
  }
 },
 "nbformat": 4,
 "nbformat_minor": 5
}
