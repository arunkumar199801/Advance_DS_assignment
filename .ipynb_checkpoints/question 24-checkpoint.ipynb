{
 "cells": [
  {
   "cell_type": "markdown",
   "id": "b912b6ea-9bb2-4ffc-b000-3231c124a496",
   "metadata": {},
   "source": [
    "Develop a code that prompts the user to input two sets of strings. Then print the elements that are\n",
    "present in the first set but not in the second sets"
   ]
  },
  {
   "cell_type": "code",
   "execution_count": 1,
   "id": "9429c345-fc3c-40a9-947c-ff02330dcca7",
   "metadata": {},
   "outputs": [
    {
     "name": "stdout",
     "output_type": "stream",
     "text": [
      "{1, 2, 'puneet'}\n"
     ]
    }
   ],
   "source": [
    "set1 = {1,2,3,4,'Arun','puneet'}\n",
    "set2 = {'Arun', 3,4,'kumar'}\n",
    "set3 = set1.difference(set2)\n",
    "print(set3)"
   ]
  },
  {
   "cell_type": "code",
   "execution_count": null,
   "id": "5abc2471-dcea-498c-9b53-9721438a389f",
   "metadata": {},
   "outputs": [],
   "source": []
  }
 ],
 "metadata": {
  "kernelspec": {
   "display_name": "Python 3 (ipykernel)",
   "language": "python",
   "name": "python3"
  },
  "language_info": {
   "codemirror_mode": {
    "name": "ipython",
    "version": 3
   },
   "file_extension": ".py",
   "mimetype": "text/x-python",
   "name": "python",
   "nbconvert_exporter": "python",
   "pygments_lexer": "ipython3",
   "version": "3.10.8"
  }
 },
 "nbformat": 4,
 "nbformat_minor": 5
}
