{
 "cells": [
  {
   "cell_type": "markdown",
   "id": "9940ea2c-2abf-4a74-ae02-c195a73f2c08",
   "metadata": {},
   "source": [
    "Write a code that takes a tuple and an element as input. The function should return the count of\n",
    "occurrences of the given element in the tuple"
   ]
  },
  {
   "cell_type": "code",
   "execution_count": 18,
   "id": "7d194cae-9e87-45ba-b7e4-a7635b5edb44",
   "metadata": {},
   "outputs": [
    {
     "name": "stdout",
     "output_type": "stream",
     "text": [
      "count of 2:2\n",
      "count of 3:2\n",
      "count of 4:3\n"
     ]
    }
   ],
   "source": [
    "tuple1 = (2,3,4,4,2,3,4)\n",
    "element = [2,3,4]\n",
    "for value in element:\n",
    "    count_of_element =tuple1.count(value)\n",
    "    if(value == 2):\n",
    "        print(f\"count of 2:{count_of_element}\")\n",
    "    if(value == 3):\n",
    "        print(f\"count of 3:{count_of_element}\")\n",
    "    if(value == 4):\n",
    "        print(f\"count of 4:{count_of_element}\")"
   ]
  },
  {
   "cell_type": "code",
   "execution_count": null,
   "id": "8404185a-4e4b-4e74-8b21-4a7a300abebe",
   "metadata": {},
   "outputs": [],
   "source": []
  },
  {
   "cell_type": "code",
   "execution_count": null,
   "id": "cf9cd6fe-9919-40f2-b995-29b39f168688",
   "metadata": {},
   "outputs": [],
   "source": []
  }
 ],
 "metadata": {
  "kernelspec": {
   "display_name": "Python 3 (ipykernel)",
   "language": "python",
   "name": "python3"
  },
  "language_info": {
   "codemirror_mode": {
    "name": "ipython",
    "version": 3
   },
   "file_extension": ".py",
   "mimetype": "text/x-python",
   "name": "python",
   "nbconvert_exporter": "python",
   "pygments_lexer": "ipython3",
   "version": "3.10.8"
  }
 },
 "nbformat": 4,
 "nbformat_minor": 5
}
