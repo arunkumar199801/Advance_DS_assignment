{
 "cells": [
  {
   "cell_type": "markdown",
   "id": "0780fdc0-13f1-4e63-98b3-f591fb65133d",
   "metadata": {},
   "source": [
    "Develope a code that takes a tuple of integers as input. The function should return the maximum and\n",
    "minimum values from the tuple using tuple unpacking?"
   ]
  },
  {
   "cell_type": "raw",
   "id": "9828b0c1-6d10-418a-9dc7-05d3080c30d5",
   "metadata": {},
   "source": [
    "Here's an example to illustrate tuple unpacking:\n",
    "\n",
    "Suppose you have the following tuple:\n",
    "\n",
    "python\n",
    "Copy code\n",
    "my_tuple = (10, 20, 30)\n",
    "You can unpack it into individual variables like this:\n",
    "\n",
    "python\n",
    "Copy code\n",
    "a, b, c = my_tuple\n",
    "Now:\n",
    "\n",
    "a will be 10\n",
    "b will be 20\n",
    "c will be 30\n",
    "This is called tuple unpacking, where the elements of the tuple are assigned to corresponding variables."
   ]
  },
  {
   "cell_type": "code",
   "execution_count": 4,
   "id": "bd21cb75-5e8b-4e2c-b7e1-1313a50e52bd",
   "metadata": {},
   "outputs": [
    {
     "name": "stdout",
     "output_type": "stream",
     "text": [
      "Example of unpacking for better understanding-------------------------------------\n",
      "10 20 30 40 50\n"
     ]
    }
   ],
   "source": [
    "print(\"Example of unpacking for better understanding-------------------------------------\")\n",
    "my_tuple = (10,20,30,40,50)\n",
    "a,b,c,d,e = my_tuple\n",
    "print(a,b,c,d,e)"
   ]
  },
  {
   "cell_type": "code",
   "execution_count": 7,
   "id": "a21dcb81-0057-485d-9280-4c39e018af57",
   "metadata": {},
   "outputs": [
    {
     "name": "stdout",
     "output_type": "stream",
     "text": [
      "Minimum value from the tuple:--- 10\n",
      "Maximum value from the tuple:--- 50\n"
     ]
    }
   ],
   "source": [
    "my_tuple = (10,20,30,40,50)\n",
    "minimum_value = min(my_tuple)\n",
    "maximum_value = max(my_tuple)\n",
    "print(\"Minimum value from the tuple:---\",minimum_value)\n",
    "print(\"Maximum value from the tuple:---\",maximum_value)"
   ]
  },
  {
   "cell_type": "code",
   "execution_count": null,
   "id": "5f2661c4-e735-49ea-a24c-e26939407dc7",
   "metadata": {},
   "outputs": [],
   "source": []
  }
 ],
 "metadata": {
  "kernelspec": {
   "display_name": "Python 3 (ipykernel)",
   "language": "python",
   "name": "python3"
  },
  "language_info": {
   "codemirror_mode": {
    "name": "ipython",
    "version": 3
   },
   "file_extension": ".py",
   "mimetype": "text/x-python",
   "name": "python",
   "nbconvert_exporter": "python",
   "pygments_lexer": "ipython3",
   "version": "3.10.8"
  }
 },
 "nbformat": 4,
 "nbformat_minor": 5
}
