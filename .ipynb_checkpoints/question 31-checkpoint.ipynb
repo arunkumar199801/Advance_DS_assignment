{
 "cells": [
  {
   "cell_type": "markdown",
   "id": "23b8df9e-c4c1-4cf0-bae8-09a00583b7d4",
   "metadata": {},
   "source": [
    "Write a code that takes a list of words as input and returns a dictionary where the keys are unique words\n",
    "and the values are the frequencies of those words in the input list "
   ]
  },
  {
   "cell_type": "code",
   "execution_count": null,
   "id": "655f9882-56ad-45f4-9396-94a185c4570a",
   "metadata": {},
   "outputs": [],
   "source": [
    "#input_set1 = input(\"write the input of the sets:-\")\n",
    "set1 = set(input_set1)\n",
    "print(set1)"
   ]
  },
  {
   "cell_type": "code",
   "execution_count": null,
   "id": "92ca9903-2bf5-4b5a-8b76-ce6277d4d158",
   "metadata": {},
   "outputs": [],
   "source": []
  }
 ],
 "metadata": {
  "kernelspec": {
   "display_name": "Python 3 (ipykernel)",
   "language": "python",
   "name": "python3"
  },
  "language_info": {
   "codemirror_mode": {
    "name": "ipython",
    "version": 3
   },
   "file_extension": ".py",
   "mimetype": "text/x-python",
   "name": "python",
   "nbconvert_exporter": "python",
   "pygments_lexer": "ipython3",
   "version": "3.10.8"
  }
 },
 "nbformat": 4,
 "nbformat_minor": 5
}
