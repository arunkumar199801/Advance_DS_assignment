{
 "cells": [
  {
   "cell_type": "markdown",
   "id": "ec9dc890-bb6e-4cb0-8fec-89a76477cdc6",
   "metadata": {},
   "source": [
    " Write a code to shuffle a given list randomly without using any built-in shuffle function\u001d",
    "\u0012"
   ]
  },
  {
   "cell_type": "raw",
   "id": "79f97e4e-6b88-4dc0-8355-f624f7fd5047",
   "metadata": {},
   "source": [
    "if you start with the list [1, 2, 3, 4, 5], you might end up with [3, 1, 5, 2, 4] after shuffling. The specific order will vary since it's random."
   ]
  },
  {
   "cell_type": "code",
   "execution_count": null,
   "id": "528ec39f-4cbf-4b19-8065-dacc3ad96285",
   "metadata": {},
   "outputs": [],
   "source": []
  },
  {
   "cell_type": "code",
   "execution_count": 6,
   "id": "5f400a6e-14d1-4f0d-bee1-1ea01e24196a",
   "metadata": {},
   "outputs": [],
   "source": [
    "import random"
   ]
  },
  {
   "cell_type": "code",
   "execution_count": 7,
   "id": "c483ff2c-c8f1-4aae-ba4a-756ac9834c7b",
   "metadata": {},
   "outputs": [
    {
     "name": "stdout",
     "output_type": "stream",
     "text": [
      "[3, 5, 1, 4, 2]\n"
     ]
    }
   ],
   "source": [
    "def simple_shuffle(input_list):\n",
    "    shuffled_list = []\n",
    "    while input_list:\n",
    "        index = random.randint(0, len(input_list) - 1)\n",
    "        shuffled_list.append(input_list.pop(index))\n",
    "    return shuffled_list\n",
    "\n",
    "# Example usage\n",
    "my_list = [1, 2, 3, 4, 5]\n",
    "shuffled_list = simple_shuffle(my_list)\n",
    "print(shuffled_list)"
   ]
  },
  {
   "cell_type": "code",
   "execution_count": null,
   "id": "36a9baa7-1214-42b2-b1a7-256f5c645ee2",
   "metadata": {},
   "outputs": [],
   "source": []
  }
 ],
 "metadata": {
  "kernelspec": {
   "display_name": "Python 3 (ipykernel)",
   "language": "python",
   "name": "python3"
  },
  "language_info": {
   "codemirror_mode": {
    "name": "ipython",
    "version": 3
   },
   "file_extension": ".py",
   "mimetype": "text/x-python",
   "name": "python",
   "nbconvert_exporter": "python",
   "pygments_lexer": "ipython3",
   "version": "3.10.8"
  }
 },
 "nbformat": 4,
 "nbformat_minor": 5
}
