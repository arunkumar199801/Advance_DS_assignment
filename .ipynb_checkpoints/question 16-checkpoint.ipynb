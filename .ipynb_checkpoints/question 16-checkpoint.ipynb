{
 "cells": [
  {
   "cell_type": "markdown",
   "id": "45f89d95-aa7f-4cd1-974c-0267ec9a0dd8",
   "metadata": {},
   "source": [
    "Create a code to check if a given list is sorted (either in 'asending or descending order) or not\n"
   ]
  },
  {
   "cell_type": "code",
   "execution_count": 25,
   "id": "147dc14b-ec15-41a5-89aa-87ca5cab1b2b",
   "metadata": {},
   "outputs": [
    {
     "name": "stdout",
     "output_type": "stream",
     "text": [
      "normal list:- [1, 2, 3, 5, 4, 6, 7]\n",
      "Ascending ordr:- [1, 2, 3, 4, 5, 6, 7]\n",
      "descending ordr:- [7, 6, 5, 4, 3, 2, 1]\n"
     ]
    }
   ],
   "source": [
    "my_list = [1,2,3,5,4,6,7]\n",
    "print('normal list:-', my_list)\n",
    "sorted_ascending_list = set(my_list)\n",
    "sorted_ascending_list = list(sorted_ascending_list)\n",
    "print('Ascending ordr:-',sorted_ascending_list)\n",
    "sorted_descending_list = sorted_ascending_list[::-1]\n",
    "print('descending ordr:-',sorted_descending_list)\n",
    "    \n"
   ]
  },
  {
   "cell_type": "code",
   "execution_count": 26,
   "id": "8ca4fad7-0268-4599-9f1e-573f05a7dc45",
   "metadata": {},
   "outputs": [
    {
     "name": "stdout",
     "output_type": "stream",
     "text": [
      "The list is sorted in ascending order.\n",
      "The list is sorted in descending order.\n",
      "The list is not sorted.\n"
     ]
    }
   ],
   "source": [
    "def is_sorted(lst):\n",
    "    if lst == sorted(lst):\n",
    "        return \"The list is sorted in ascending order.\"\n",
    "    elif lst == sorted(lst, reverse=True):\n",
    "        return \"The list is sorted in descending order.\"\n",
    "    else:\n",
    "        return \"The list is not sorted.\"\n",
    "\n",
    "# Test cases\n",
    "list1 = [1, 2, 3, 4, 5]\n",
    "list2 = [5, 4, 3, 2, 1]\n",
    "list3 = [3, 1, 4, 2, 5]\n",
    "\n",
    "print(is_sorted(list1))  # Output: The list is sorted in ascending order.\n",
    "print(is_sorted(list2))  # Output: The list is sorted in descending order.\n",
    "print(is_sorted(list3))  # Output: The list is not sorted."
   ]
  },
  {
   "cell_type": "code",
   "execution_count": null,
   "id": "7a386e60-065c-4f4b-bce6-d3590496e7e5",
   "metadata": {},
   "outputs": [],
   "source": []
  }
 ],
 "metadata": {
  "kernelspec": {
   "display_name": "Python 3 (ipykernel)",
   "language": "python",
   "name": "python3"
  },
  "language_info": {
   "codemirror_mode": {
    "name": "ipython",
    "version": 3
   },
   "file_extension": ".py",
   "mimetype": "text/x-python",
   "name": "python",
   "nbconvert_exporter": "python",
   "pygments_lexer": "ipython3",
   "version": "3.10.8"
  }
 },
 "nbformat": 4,
 "nbformat_minor": 5
}
