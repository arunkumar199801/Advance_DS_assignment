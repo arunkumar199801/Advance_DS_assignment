{
 "cells": [
  {
   "cell_type": "markdown",
   "id": "8d1f10de-0cff-4219-bcaa-2bd8133dd652",
   "metadata": {},
   "source": [
    "Develop a code that prompts the user to input two sets of strings. Then print the symmetric difference of\n",
    "these two sets"
   ]
  },
  {
   "cell_type": "code",
   "execution_count": 21,
   "id": "db6f0a87-6e15-42f4-a4c7-d8b64634c9b0",
   "metadata": {},
   "outputs": [
    {
     "name": "stdout",
     "output_type": "stream",
     "text": [
      "union of 2 sets:- {'banana', 'apple', 'pineapple', 'orange', 'chiku', 'mango'}\n",
      "----------------------------------------------------------------------------------\n",
      "common value between two sets:- {'mango', 'apple'}\n",
      "---------------------------------------------------\n",
      "symmetric difference of these two sets:- {'orange', 'chiku', 'banana', 'pineapple'}\n"
     ]
    }
   ],
   "source": [
    "set1 = {'apple','banana','chiku', 'mango'}\n",
    "set2 = {'apple', 'orange','mango','pineapple'}\n",
    "set3 =set1.union(set2)\n",
    "list1 =[]\n",
    "print(\"union of 2 sets:-\",set3)\n",
    "print(\"----------------------------------------------------------------------------------\")\n",
    "common_value=set1.intersection(set2)\n",
    "print(\"common value between two sets:-\",common_value)\n",
    "print(\"---------------------------------------------------\")\n",
    "for values in set3:\n",
    "    if values not in common_value:\n",
    "        list1.append(values)\n",
    "print(\"symmetric difference of these two sets:-\", set(list1))"
   ]
  },
  {
   "cell_type": "code",
   "execution_count": null,
   "id": "89c624c6-cea7-4093-b7ff-47d9a7178efd",
   "metadata": {},
   "outputs": [],
   "source": []
  },
  {
   "cell_type": "raw",
   "id": "b71ccfb2-401f-4aa5-acb7-e27eb81e8e0f",
   "metadata": {},
   "source": [
    "via symmetric_difference function"
   ]
  },
  {
   "cell_type": "code",
   "execution_count": 25,
   "id": "65b60192-84e3-40ab-9cc8-fa7088616ef9",
   "metadata": {},
   "outputs": [
    {
     "data": {
      "text/plain": [
       "{'banana', 'chiku', 'orange', 'pineapple'}"
      ]
     },
     "execution_count": 25,
     "metadata": {},
     "output_type": "execute_result"
    }
   ],
   "source": [
    "set1 = {'apple','banana','chiku', 'mango'}\n",
    "set2 = {'apple', 'orange','mango','pineapple'}\n",
    "set3 = set1.symmetric_difference(set2)\n",
    "set3"
   ]
  },
  {
   "cell_type": "code",
   "execution_count": null,
   "id": "7cda68ee-e06c-4a4a-96f8-a76f8bb62d4a",
   "metadata": {},
   "outputs": [],
   "source": []
  }
 ],
 "metadata": {
  "kernelspec": {
   "display_name": "Python 3 (ipykernel)",
   "language": "python",
   "name": "python3"
  },
  "language_info": {
   "codemirror_mode": {
    "name": "ipython",
    "version": 3
   },
   "file_extension": ".py",
   "mimetype": "text/x-python",
   "name": "python",
   "nbconvert_exporter": "python",
   "pygments_lexer": "ipython3",
   "version": "3.10.8"
  }
 },
 "nbformat": 4,
 "nbformat_minor": 5
}
