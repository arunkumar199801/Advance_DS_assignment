{
 "cells": [
  {
   "cell_type": "markdown",
   "id": "23b8df9e-c4c1-4cf0-bae8-09a00583b7d4",
   "metadata": {},
   "source": [
    "Write a code that takes a list of words as input and returns a dictionary where the keys are unique words\n",
    "and the values are the frequencies of those words in the input list "
   ]
  },
  {
   "cell_type": "code",
   "execution_count": 17,
   "id": "655f9882-56ad-45f4-9396-94a185c4570a",
   "metadata": {},
   "outputs": [
    {
     "name": "stdin",
     "output_type": "stream",
     "text": [
      "write the input of the sets:- apple ,banana, apple\n"
     ]
    },
    {
     "name": "stdout",
     "output_type": "stream",
     "text": [
      "{'apple': 2, ',banana,': 1} \n",
      "\n",
      "keys:-apple| values:-2\n",
      "keys:-,banana,| values:-1\n"
     ]
    }
   ],
   "source": [
    "input_set1 = input(\"write the input of the sets:-\")\n",
    "set1 = input_set1.split()\n",
    "word_frequencies = {}\n",
    "for values in set1:\n",
    "    if values in word_frequencies:\n",
    "        word_frequencies[values] +=1\n",
    "    else:\n",
    "        word_frequencies[values] = 1\n",
    "print(word_frequencies,\"\\n\")\n",
    "for keys, valuess in word_frequencies.items():\n",
    "    print(f\"keys:-{keys}| values:-{valuess}\")"
   ]
  },
  {
   "cell_type": "code",
   "execution_count": null,
   "id": "92ca9903-2bf5-4b5a-8b76-ce6277d4d158",
   "metadata": {},
   "outputs": [],
   "source": []
  }
 ],
 "metadata": {
  "kernelspec": {
   "display_name": "Python 3 (ipykernel)",
   "language": "python",
   "name": "python3"
  },
  "language_info": {
   "codemirror_mode": {
    "name": "ipython",
    "version": 3
   },
   "file_extension": ".py",
   "mimetype": "text/x-python",
   "name": "python",
   "nbconvert_exporter": "python",
   "pygments_lexer": "ipython3",
   "version": "3.10.8"
  }
 },
 "nbformat": 4,
 "nbformat_minor": 5
}
