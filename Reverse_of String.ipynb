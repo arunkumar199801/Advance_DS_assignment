{
 "cells": [
  {
   "cell_type": "markdown",
   "id": "f7cd70c0-16fd-431f-83c5-4696e2e24f93",
   "metadata": {},
   "source": [
    "1 Write a code to reverse s strings"
   ]
  },
  {
   "cell_type": "code",
   "execution_count": 3,
   "id": "483ae8db-bd9d-4284-86bd-c630abd68e64",
   "metadata": {},
   "outputs": [
    {
     "data": {
      "text/plain": [
       "'ramuK nurA'"
      ]
     },
     "execution_count": 3,
     "metadata": {},
     "output_type": "execute_result"
    }
   ],
   "source": [
    "strings = 'Arun Kumar'\n",
    "strings[::-1]"
   ]
  },
  {
   "cell_type": "code",
   "execution_count": 4,
   "id": "016e4f71-0a23-4de2-80ca-fabc4e5773e6",
   "metadata": {},
   "outputs": [],
   "source": [
    "#by making a fucntion\n",
    "def reverse_strings(strings): \n",
    "    str = strings[::-1]\n",
    "    return str"
   ]
  },
  {
   "cell_type": "code",
   "execution_count": 10,
   "id": "efeacaa0-37d3-425a-9fbe-10f3d6d03908",
   "metadata": {},
   "outputs": [
    {
     "name": "stdout",
     "output_type": "stream",
     "text": [
      "string without reverse:- Arun Kumar\n",
      "here is the reverse string via function:- ramuK nurA\n"
     ]
    }
   ],
   "source": [
    "strings = 'Arun Kumar'\n",
    "print('string without reverse:-', strings)\n",
    "print(\"here is the reverse string via function:-\", reverse_strings(strings))"
   ]
  },
  {
   "cell_type": "code",
   "execution_count": null,
   "id": "63849e63-9cad-4f86-ba9b-a0d426c991da",
   "metadata": {},
   "outputs": [],
   "source": []
  }
 ],
 "metadata": {
  "kernelspec": {
   "display_name": "Python 3 (ipykernel)",
   "language": "python",
   "name": "python3"
  },
  "language_info": {
   "codemirror_mode": {
    "name": "ipython",
    "version": 3
   },
   "file_extension": ".py",
   "mimetype": "text/x-python",
   "name": "python",
   "nbconvert_exporter": "python",
   "pygments_lexer": "ipython3",
   "version": "3.10.8"
  }
 },
 "nbformat": 4,
 "nbformat_minor": 5
}
