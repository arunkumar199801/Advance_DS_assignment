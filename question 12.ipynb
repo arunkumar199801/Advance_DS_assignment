{
 "cells": [
  {
   "cell_type": "markdown",
   "id": "cba95d30-c624-4473-80e3-ce4d7c182476",
   "metadata": {},
   "source": [
    "\u0012 Implement a code to find the second largest number in a given list of integers ?"
   ]
  },
  {
   "cell_type": "code",
   "execution_count": 25,
   "id": "ce4047be-0ed8-4a21-9947-04bfc6a8aa2c",
   "metadata": {},
   "outputs": [
    {
     "name": "stdout",
     "output_type": "stream",
     "text": [
      "first value of list 1\n",
      "maximum number in list:- 70\n",
      "second largest number 60\n"
     ]
    }
   ],
   "source": [
    "list1 = [ 1,2,3,4,5,60,70]\n",
    "n = list1[0]\n",
    "print('first value of list', n)\n",
    "max_num = max(list1)\n",
    "print(\"maximum number in list:-\", max_num)\n",
    "for item in list1:\n",
    "    if item < max_num and item > n+4:\n",
    "        print(\"second largest number\",item)"
   ]
  },
  {
   "cell_type": "code",
   "execution_count": null,
   "id": "df224003-bc9d-4eaf-a3b8-5b7dd3eead1f",
   "metadata": {},
   "outputs": [],
   "source": []
  },
  {
   "cell_type": "code",
   "execution_count": null,
   "id": "447517c5-def7-4ae7-a4f9-f5b849f6efd4",
   "metadata": {},
   "outputs": [],
   "source": []
  }
 ],
 "metadata": {
  "kernelspec": {
   "display_name": "Python 3 (ipykernel)",
   "language": "python",
   "name": "python3"
  },
  "language_info": {
   "codemirror_mode": {
    "name": "ipython",
    "version": 3
   },
   "file_extension": ".py",
   "mimetype": "text/x-python",
   "name": "python",
   "nbconvert_exporter": "python",
   "pygments_lexer": "ipython3",
   "version": "3.10.8"
  }
 },
 "nbformat": 4,
 "nbformat_minor": 5
}
