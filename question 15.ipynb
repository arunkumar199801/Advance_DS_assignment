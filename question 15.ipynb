{
 "cells": [
  {
   "cell_type": "markdown",
   "id": "d2adec71-7b4e-4873-9466-b6264b987464",
   "metadata": {},
   "source": [
    "Implement a code to find and remove duplicates from the list while preserving the original order of\n",
    "elements \u0012"
   ]
  },
  {
   "cell_type": "code",
   "execution_count": 3,
   "id": "2dba5631-18b4-4412-86b6-14729032be93",
   "metadata": {},
   "outputs": [
    {
     "name": "stdout",
     "output_type": "stream",
     "text": [
      "original list:- [1, 1, 2, 3, 4, 4, 5, 6, 7, 8]\n",
      "after emoving the dulicate value:- list[{1, 2, 3, 4, 5, 6, 7, 8}]\n"
     ]
    }
   ],
   "source": [
    "my_list = [1,1,2,3,4,4,5,6,7,8]\n",
    "print('original list:-', my_list)\n",
    "mylist = list[set(my_list)]\n",
    "print('after emoving the dulicate value:-', mylist)"
   ]
  },
  {
   "cell_type": "code",
   "execution_count": null,
   "id": "0cb2778b-7e3d-4b10-bba8-b9f4ea769168",
   "metadata": {},
   "outputs": [],
   "source": []
  }
 ],
 "metadata": {
  "kernelspec": {
   "display_name": "Python 3 (ipykernel)",
   "language": "python",
   "name": "python3"
  },
  "language_info": {
   "codemirror_mode": {
    "name": "ipython",
    "version": 3
   },
   "file_extension": ".py",
   "mimetype": "text/x-python",
   "name": "python",
   "nbconvert_exporter": "python",
   "pygments_lexer": "ipython3",
   "version": "3.10.8"
  }
 },
 "nbformat": 4,
 "nbformat_minor": 5
}
