{
 "cells": [
  {
   "cell_type": "markdown",
   "id": "7f3647c7-4d6e-4407-a7f9-3ade7ace3c1c",
   "metadata": {},
   "source": [
    "Create a code that takes a tuple and two integers as input. The function should return a new tuple\n",
    "containing elements from the original tuple within the specified range of indices."
   ]
  },
  {
   "cell_type": "code",
   "execution_count": 4,
   "id": "40899d9b-5e78-4dfe-80a3-ed05f3ebcdd8",
   "metadata": {},
   "outputs": [
    {
     "data": {
      "text/plain": [
       "(30, 40, 50)"
      ]
     },
     "execution_count": 4,
     "metadata": {},
     "output_type": "execute_result"
    }
   ],
   "source": [
    "Tuple= (10, 20, 30, 40, 50, 60)\n",
    "Tuple[2:5]\n"
   ]
  },
  {
   "cell_type": "code",
   "execution_count": null,
   "id": "83854919-5381-4d59-8bf1-7bcfba1f80bf",
   "metadata": {},
   "outputs": [],
   "source": []
  }
 ],
 "metadata": {
  "kernelspec": {
   "display_name": "Python 3 (ipykernel)",
   "language": "python",
   "name": "python3"
  },
  "language_info": {
   "codemirror_mode": {
    "name": "ipython",
    "version": 3
   },
   "file_extension": ".py",
   "mimetype": "text/x-python",
   "name": "python",
   "nbconvert_exporter": "python",
   "pygments_lexer": "ipython3",
   "version": "3.10.8"
  }
 },
 "nbformat": 4,
 "nbformat_minor": 5
}
