{
 "cells": [
  {
   "cell_type": "markdown",
   "id": "6cc5e5fc-fdf5-47ec-afd7-ab9499c70196",
   "metadata": {},
   "source": [
    "Write a code to perform basic string compression using the counts of repeated character\u001d"
   ]
  },
  {
   "cell_type": "code",
   "execution_count": 23,
   "id": "b1707ad8-7839-40c6-9553-8cf14b622fce",
   "metadata": {},
   "outputs": [
    {
     "name": "stdout",
     "output_type": "stream",
     "text": [
      "6a7b6n1x1n1x1n1x1n1x\n"
     ]
    }
   ],
   "source": [
    "string1 = \"aaaaaabbbbbbbnnnnnnxnxnxnx\"\n",
    "ch = string1[0]\n",
    "result= \"\"\n",
    "count = 0\n",
    "string1=string1 + \" \" #so that it will covered all string values\n",
    "for x in string1:\n",
    "    if x==ch:\n",
    "        count +=1\n",
    "    else:\n",
    "        result = result +str(count)+str(ch)\n",
    "        ch =x\n",
    "        count = 1\n",
    "print(result)\n",
    "    "
   ]
  },
  {
   "cell_type": "code",
   "execution_count": null,
   "id": "45742883-0f24-4677-85eb-7a042ae1af79",
   "metadata": {},
   "outputs": [],
   "source": []
  }
 ],
 "metadata": {
  "kernelspec": {
   "display_name": "Python 3 (ipykernel)",
   "language": "python",
   "name": "python3"
  },
  "language_info": {
   "codemirror_mode": {
    "name": "ipython",
    "version": 3
   },
   "file_extension": ".py",
   "mimetype": "text/x-python",
   "name": "python",
   "nbconvert_exporter": "python",
   "pygments_lexer": "ipython3",
   "version": "3.10.8"
  }
 },
 "nbformat": 4,
 "nbformat_minor": 5
}
