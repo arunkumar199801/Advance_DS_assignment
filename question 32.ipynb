{
 "cells": [
  {
   "cell_type": "markdown",
   "id": "cc647327-5bf1-4eb7-90c5-7b41f232318f",
   "metadata": {},
   "source": [
    "Write a code that takes two dictionaries as input and merges them into a single dictionary. If there are\n",
    "common keys the values should be added togethers"
   ]
  },
  {
   "cell_type": "code",
   "execution_count": 22,
   "id": "aedb4a8e-8d54-4fe7-93e4-a59bb0a699fd",
   "metadata": {},
   "outputs": [
    {
     "name": "stdout",
     "output_type": "stream",
     "text": [
      "{'First_name': 'Arun', 'Last_name': 'kumar', 'mobile': 9315847218}\n",
      "{'zip code': 129, 'address': 'parvatiya colony'}\n",
      "{'First_name': 'Arun', 'Last_name': 'kumar', 'mobile': 9315847218}\n",
      "{'First_name': 'Arun', 'Last_name': 'kumar', 'mobile': 9315847218, 'zip code': 129, 'address': 'parvatiya colony'}\n"
     ]
    }
   ],
   "source": [
    "dic1 ={\"First_name\" : \"Arun\",\n",
    "      \"Last_name\" : \"kumar\",\n",
    "      \"mobile\" : 9315847218}\n",
    "print(dic1)\n",
    "dic2 ={\"zip code\" : 129,\n",
    "      \"address\" : \"parvatiya colony\"}\n",
    "print(dic2)\n",
    "merged_dict = dic1.copy()\n",
    "print(merged_dict)\n",
    "for key,value in dic2.items():\n",
    "    if key in merged_dict:\n",
    "        merged_dict[key] += value\n",
    "    else:\n",
    "        merged_dict[key] = value\n",
    "print(merged_dict)"
   ]
  },
  {
   "cell_type": "code",
   "execution_count": null,
   "id": "f5f233cc-cba1-419d-be3a-c6443f9b8e0e",
   "metadata": {},
   "outputs": [],
   "source": []
  },
  {
   "cell_type": "code",
   "execution_count": 12,
   "id": "0b80725a-d75d-4486-985a-ddc3829c3d1b",
   "metadata": {},
   "outputs": [
    {
     "name": "stdout",
     "output_type": "stream",
     "text": [
      "The merged dictionary is: {'apple': 3, 'banana': 6, 'cherry': 4, 'date': 5}\n"
     ]
    }
   ],
   "source": [
    "# Example dictionaries\n",
    "dict1 = {'apple': 3, 'banana': 2, 'cherry': 1}\n",
    "dict2 = {'banana': 4, 'date': 5, 'cherry': 3}\n",
    "\n",
    "# Create a new dictionary to store the merged result\n",
    "merged_dict = dict1.copy()\n",
    "\n",
    "# Iterate through the second dictionary\n",
    "for key, value in dict2.items():\n",
    "    if key in merged_dict:\n",
    "        # If the key is common, add the values together\n",
    "        merged_dict[key] += value\n",
    "    else:\n",
    "        # If the key is not in the first dictionary, add it to the result\n",
    "        merged_dict[key] = value\n",
    "\n",
    "# Print the merged dictionary\n",
    "print(\"The merged dictionary is:\", merged_dict)"
   ]
  },
  {
   "cell_type": "code",
   "execution_count": null,
   "id": "4ea9b2b3-acc2-4338-88eb-58c28431f5bc",
   "metadata": {},
   "outputs": [],
   "source": []
  }
 ],
 "metadata": {
  "kernelspec": {
   "display_name": "Python 3 (ipykernel)",
   "language": "python",
   "name": "python3"
  },
  "language_info": {
   "codemirror_mode": {
    "name": "ipython",
    "version": 3
   },
   "file_extension": ".py",
   "mimetype": "text/x-python",
   "name": "python",
   "nbconvert_exporter": "python",
   "pygments_lexer": "ipython3",
   "version": "3.10.8"
  }
 },
 "nbformat": 4,
 "nbformat_minor": 5
}
