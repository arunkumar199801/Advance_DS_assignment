{
 "cells": [
  {
   "cell_type": "markdown",
   "id": "725f2a75-ae08-44a4-b028-64e0ec0a5fcb",
   "metadata": {},
   "source": [
    "Create a code that defines two sets of integers. Then print the union intersection and difference of these\n",
    "two sets"
   ]
  },
  {
   "cell_type": "code",
   "execution_count": 7,
   "id": "33d093c5-95f8-4a4a-92c7-756916ca8080",
   "metadata": {},
   "outputs": [
    {
     "name": "stdout",
     "output_type": "stream",
     "text": [
      "union of two set :{'Arun', 'Puneet', 40, 10, 50, 20, 'prince', 30}\n",
      " intersection of two set:{'Arun', 20}\n",
      " difference of two sets:{10, 30, 'Puneet'}\n"
     ]
    }
   ],
   "source": [
    "set_one = {10,20,30,'Arun','Puneet'}\n",
    "set_two = {40,50,20,'prince','Arun'}\n",
    "union_set = set_one.union(set_two)\n",
    "intersection_set = set_one.intersection(set_two)\n",
    "difference_set = set_one.difference(set_two)\n",
    "print(f\"union of two set :{union_set}\\n intersection of two set:{intersection_set}\\n difference of two sets:{difference_set}\")"
   ]
  },
  {
   "cell_type": "code",
   "execution_count": null,
   "id": "6ae23861-00ab-421b-bed3-1528ebacba55",
   "metadata": {},
   "outputs": [],
   "source": []
  }
 ],
 "metadata": {
  "kernelspec": {
   "display_name": "Python 3 (ipykernel)",
   "language": "python",
   "name": "python3"
  },
  "language_info": {
   "codemirror_mode": {
    "name": "ipython",
    "version": 3
   },
   "file_extension": ".py",
   "mimetype": "text/x-python",
   "name": "python",
   "nbconvert_exporter": "python",
   "pygments_lexer": "ipython3",
   "version": "3.10.8"
  }
 },
 "nbformat": 4,
 "nbformat_minor": 5
}
