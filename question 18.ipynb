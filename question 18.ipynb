{
 "cells": [
  {
   "cell_type": "markdown",
   "id": "a828804f-1989-4cfa-94d2-e3ae3cd4bfe8",
   "metadata": {},
   "source": [
    "Implement a code to find the intersection of two given lists ?"
   ]
  },
  {
   "cell_type": "raw",
   "id": "0afd0dae-0ba8-48af-befc-e7df92479ca3",
   "metadata": {},
   "source": [
    "To find the intersection of two lists, you identify the elements that are common to both lists. For example, if you have the lists [1, 2, 3, 4] and [3, 4, 5, 6], their intersection would be [3, 4] since these are the elements present in both lists."
   ]
  },
  {
   "cell_type": "code",
   "execution_count": 10,
   "id": "f222da04-e323-4126-9db2-c7d694b79a91",
   "metadata": {},
   "outputs": [
    {
     "name": "stdout",
     "output_type": "stream",
     "text": [
      "Intersection would be [3, 4]\n"
     ]
    }
   ],
   "source": [
    "list1 =[1, 2, 3, 4]\n",
    "list2 = [3, 4, 5, 6]\n",
    "list3 = []\n",
    "for x in list1:\n",
    "    for y in list2:\n",
    "        if y==x:\n",
    "            list3.append(y)\n",
    "print(\"Intersection would be\",list3)"
   ]
  },
  {
   "cell_type": "code",
   "execution_count": null,
   "id": "715f6a43-3fd4-430e-911b-2afff97ec5e0",
   "metadata": {},
   "outputs": [],
   "source": []
  }
 ],
 "metadata": {
  "kernelspec": {
   "display_name": "Python 3 (ipykernel)",
   "language": "python",
   "name": "python3"
  },
  "language_info": {
   "codemirror_mode": {
    "name": "ipython",
    "version": 3
   },
   "file_extension": ".py",
   "mimetype": "text/x-python",
   "name": "python",
   "nbconvert_exporter": "python",
   "pygments_lexer": "ipython3",
   "version": "3.10.8"
  }
 },
 "nbformat": 4,
 "nbformat_minor": 5
}
