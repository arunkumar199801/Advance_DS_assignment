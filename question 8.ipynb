{
 "cells": [
  {
   "cell_type": "markdown",
   "id": "abaedf20-4d3e-44de-84da-b3038fb506a9",
   "metadata": {},
   "source": [
    "Convert a string into uppercase or lower case"
   ]
  },
  {
   "cell_type": "code",
   "execution_count": 3,
   "id": "b44b2e15-3c05-4e1f-a9b2-41e08d1c5837",
   "metadata": {},
   "outputs": [],
   "source": [
    "def upper_case(string1):\n",
    "    string1= string1.upper()\n",
    "    return string1\n",
    "def lower_case(string1):\n",
    "    string1= string1.lower()\n",
    "    return string1\n"
   ]
  },
  {
   "cell_type": "code",
   "execution_count": 4,
   "id": "3e14f681-2f2f-47db-97ff-80dab043d8d5",
   "metadata": {},
   "outputs": [
    {
     "name": "stdout",
     "output_type": "stream",
     "text": [
      "ARUN\n",
      "arun\n"
     ]
    }
   ],
   "source": [
    "print(upper_case(\"Arun\"))\n",
    "print(lower_case(\"ARUN\"))\n"
   ]
  },
  {
   "cell_type": "code",
   "execution_count": null,
   "id": "2c561359-a109-4c0b-a312-3cd3b98b56db",
   "metadata": {},
   "outputs": [],
   "source": []
  }
 ],
 "metadata": {
  "kernelspec": {
   "display_name": "Python 3 (ipykernel)",
   "language": "python",
   "name": "python3"
  },
  "language_info": {
   "codemirror_mode": {
    "name": "ipython",
    "version": 3
   },
   "file_extension": ".py",
   "mimetype": "text/x-python",
   "name": "python",
   "nbconvert_exporter": "python",
   "pygments_lexer": "ipython3",
   "version": "3.10.8"
  }
 },
 "nbformat": 4,
 "nbformat_minor": 5
}
