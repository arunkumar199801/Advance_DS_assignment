{
 "cells": [
  {
   "cell_type": "markdown",
   "id": "ec22aa81-fcc0-4841-9881-b27c6708f25d",
   "metadata": {},
   "source": [
    " Write a code to remove all occurrences of a specific element from a lists"
   ]
  },
  {
   "cell_type": "raw",
   "id": "d845f9f2-43e0-440a-b44a-730da2f92ff9",
   "metadata": {},
   "source": [
    "Example:\n",
    "\n",
    "Given a list:\n",
    "[1, 2, 3, 4, 2, 2, 5, 6]\n",
    "\n",
    "And a specific element to remove:\n",
    "2\n",
    "\n",
    "The resulting list after removing all occurrences of 2 would be:\n",
    "[1, 3, 4, 5, 6]"
   ]
  },
  {
   "cell_type": "code",
   "execution_count": 33,
   "id": "edfade40-7b01-4bb8-aced-aa7121bf3f69",
   "metadata": {},
   "outputs": [
    {
     "name": "stdout",
     "output_type": "stream",
     "text": [
      "[1, 3, 4, 5, 8, 9, 10]\n"
     ]
    }
   ],
   "source": [
    "list1 = [1,2,3,4,5,2,2,2,8,9,10]\n",
    "occurrence_element= 2\n",
    "list2 = []\n",
    "for item in list1:\n",
    "    if item != occurrence_element:\n",
    "        list2.append(item)\n",
    "print(list2)\n",
    "\n",
    "        \n",
    "    \n",
    "        "
   ]
  },
  {
   "cell_type": "raw",
   "id": "bbefc996-0a0b-463d-a2d6-b6be21c86d98",
   "metadata": {},
   "source": [
    "Using function"
   ]
  },
  {
   "cell_type": "code",
   "execution_count": 62,
   "id": "6a388b85-992b-49db-b058-d7e19afa94c4",
   "metadata": {},
   "outputs": [],
   "source": [
    "def removing_all_occurrence_element(list1,occurrence_element):\n",
    "    list2 = []\n",
    "    for item in list1:\n",
    "        if item not in occurrence_element:\n",
    "            list2.append(item)\n",
    "    print(list2)\n",
    "        \n",
    "    "
   ]
  },
  {
   "cell_type": "code",
   "execution_count": 63,
   "id": "a3822855-be7d-4090-aaa9-8b0e1c7838fd",
   "metadata": {},
   "outputs": [
    {
     "name": "stdout",
     "output_type": "stream",
     "text": [
      "[1, 3, 5, 5]\n",
      "None\n"
     ]
    }
   ],
   "source": [
    "list1 = [1,2,3,4,5,2,2,2,2,4,4,5]\n",
    "occurrence_element = [2,4]\n",
    "new_list= removing_all_occurrence_element(list1,occurrence_element)\n",
    "print(new_list)"
   ]
  },
  {
   "cell_type": "code",
   "execution_count": null,
   "id": "24c0827d-ebd2-4d4c-a884-191e8e5eb726",
   "metadata": {},
   "outputs": [],
   "source": []
  }
 ],
 "metadata": {
  "kernelspec": {
   "display_name": "Python 3 (ipykernel)",
   "language": "python",
   "name": "python3"
  },
  "language_info": {
   "codemirror_mode": {
    "name": "ipython",
    "version": 3
   },
   "file_extension": ".py",
   "mimetype": "text/x-python",
   "name": "python",
   "nbconvert_exporter": "python",
   "pygments_lexer": "ipython3",
   "version": "3.10.8"
  }
 },
 "nbformat": 4,
 "nbformat_minor": 5
}
