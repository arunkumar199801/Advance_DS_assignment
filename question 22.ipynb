{
 "cells": [
  {
   "cell_type": "markdown",
   "id": "c9454389-07d3-4a1e-aa59-3f2bb721e371",
   "metadata": {},
   "source": [
    "Create a code that prompts the user to enter two sets of integers separated by commas. Then print the\n",
    "intersection of these two sets"
   ]
  },
  {
   "cell_type": "code",
   "execution_count": 3,
   "id": "161b89bb-ff62-4d3d-af40-17b22df1025e",
   "metadata": {},
   "outputs": [
    {
     "data": {
      "text/plain": [
       "{3, 4, 5}"
      ]
     },
     "execution_count": 3,
     "metadata": {},
     "output_type": "execute_result"
    }
   ],
   "source": [
    "set1 = {1,2,3,4,5}\n",
    "set2 = {3,4,6,7,5}\n",
    "set3 = set1.intersection(set2)\n",
    "set3"
   ]
  },
  {
   "cell_type": "code",
   "execution_count": null,
   "id": "299e490e-3d94-460b-8e1b-7b639ec2b228",
   "metadata": {},
   "outputs": [],
   "source": []
  }
 ],
 "metadata": {
  "kernelspec": {
   "display_name": "Python 3 (ipykernel)",
   "language": "python",
   "name": "python3"
  },
  "language_info": {
   "codemirror_mode": {
    "name": "ipython",
    "version": 3
   },
   "file_extension": ".py",
   "mimetype": "text/x-python",
   "name": "python",
   "nbconvert_exporter": "python",
   "pygments_lexer": "ipython3",
   "version": "3.10.8"
  }
 },
 "nbformat": 4,
 "nbformat_minor": 5
}
