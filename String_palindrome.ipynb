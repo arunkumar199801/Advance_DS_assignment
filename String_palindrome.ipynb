{
 "cells": [
  {
   "cell_type": "raw",
   "id": "e7ef205d-b7af-40f6-a270-a7af244b1ce9",
   "metadata": {},
   "source": [
    "Write a code to check if a given string in a palindrome or not.\n",
    "\n",
    "A palindrome is a word, phrase, number, or sequence of characters that reads the same backward as forward. Here are a few examples:\n",
    "\n",
    "Words: \"level\", \"radar\", \"civic\"\n",
    "Phrases: \"A man, a plan, a canal, Panama!\"\n",
    "Numbers: 121, 12321"
   ]
  },
  {
   "cell_type": "code",
   "execution_count": 6,
   "id": "ecc407d9-e3b4-4f5e-adbd-d32e677a7b1e",
   "metadata": {},
   "outputs": [
    {
     "name": "stdout",
     "output_type": "stream",
     "text": [
      "String  :- nittin\n",
      "String without reversing:- nittin\n",
      "String with reversing:- nittin\n",
      "String is palindrome\n"
     ]
    }
   ],
   "source": [
    "strings = 'nittin'\n",
    "print(\"String  :-\", str1)\n",
    "str1 = strings[::]\n",
    "print(\"String without reversing:-\", str1)\n",
    "str2 = strings[::-1]\n",
    "print(\"String with reversing:-\", str1)\n",
    "if str1 == str2:\n",
    "    print(\"String is palindrome\")\n",
    "else:\n",
    "    print(\"string is not a Plaindrome\")"
   ]
  },
  {
   "cell_type": "code",
   "execution_count": 7,
   "id": "670d9910-f7a8-4ea0-8932-314dbea5db14",
   "metadata": {},
   "outputs": [],
   "source": [
    "def string_palindrome(strings):\n",
    "    str1 = strings[::]\n",
    "    str2 = strings[::-1]\n",
    "    if str1 == str2:\n",
    "        print(\"String is palindrome\")\n",
    "    else:\n",
    "        print(\"string is not a Plaindrome\")"
   ]
  },
  {
   "cell_type": "code",
   "execution_count": 11,
   "id": "077d15a9-b473-4652-be15-379d8305720f",
   "metadata": {},
   "outputs": [
    {
     "name": "stdout",
     "output_type": "stream",
     "text": [
      "string is not a Plaindrome\n"
     ]
    }
   ],
   "source": [
    "strings = 'Nittin'\n",
    "string_palindrome(strings)"
   ]
  },
  {
   "cell_type": "code",
   "execution_count": null,
   "id": "27650777-dbb6-4928-926d-a69c8d20086d",
   "metadata": {},
   "outputs": [],
   "source": []
  }
 ],
 "metadata": {
  "kernelspec": {
   "display_name": "Python 3 (ipykernel)",
   "language": "python",
   "name": "python3"
  },
  "language_info": {
   "codemirror_mode": {
    "name": "ipython",
    "version": 3
   },
   "file_extension": ".py",
   "mimetype": "text/x-python",
   "name": "python",
   "nbconvert_exporter": "python",
   "pygments_lexer": "ipython3",
   "version": "3.10.8"
  }
 },
 "nbformat": 4,
 "nbformat_minor": 5
}
