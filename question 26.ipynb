{
 "cells": [
  {
   "cell_type": "markdown",
   "id": "4c38c29b-530d-4b91-b5cb-48944b9269c7",
   "metadata": {},
   "source": [
    "Write a code that prompts the user to input two sets of characters. Then print the union of these two sets?"
   ]
  },
  {
   "cell_type": "code",
   "execution_count": 1,
   "id": "8d9ec865-98f6-461b-a112-31a5df249a44",
   "metadata": {},
   "outputs": [
    {
     "name": "stdout",
     "output_type": "stream",
     "text": [
      "{'c', 'a', 'e', 'b', 'd', 'f'}\n"
     ]
    }
   ],
   "source": [
    "set1 = {'a','b','c','d'}\n",
    "set2 = {'d','e','f','a'}\n",
    "set3 = set1.union(set2)\n",
    "print(set3)"
   ]
  },
  {
   "cell_type": "code",
   "execution_count": null,
   "id": "ec1b3d5f-fec5-4501-a773-44e58cdb10e8",
   "metadata": {},
   "outputs": [],
   "source": []
  }
 ],
 "metadata": {
  "kernelspec": {
   "display_name": "Python 3 (ipykernel)",
   "language": "python",
   "name": "python3"
  },
  "language_info": {
   "codemirror_mode": {
    "name": "ipython",
    "version": 3
   },
   "file_extension": ".py",
   "mimetype": "text/x-python",
   "name": "python",
   "nbconvert_exporter": "python",
   "pygments_lexer": "ipython3",
   "version": "3.10.8"
  }
 },
 "nbformat": 4,
 "nbformat_minor": 5
}
