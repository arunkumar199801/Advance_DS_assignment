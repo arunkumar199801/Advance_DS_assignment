{
 "cells": [
  {
   "cell_type": "markdown",
   "id": "63935e16-608c-4cc9-8c70-9ae8528d747e",
   "metadata": {},
   "source": [
    "Write a code to determine if a string has all unique characters ?"
   ]
  },
  {
   "cell_type": "code",
   "execution_count": 40,
   "id": "966ef669-b787-4937-89e3-51c556d457a3",
   "metadata": {},
   "outputs": [
    {
     "name": "stdout",
     "output_type": "stream",
     "text": [
      "True\n"
     ]
    }
   ],
   "source": [
    "s = \"abcdef\"\n",
    "is_unique = True\n",
    "\n",
    "for i in range(len(s)):\n",
    "    for j in range(i + 1, len(s)):\n",
    "        if s[i] == s[j]:\n",
    "            is_unique = False\n",
    "            break\n",
    "    if not is_unique:\n",
    "        break\n",
    "\n",
    "print(is_unique) "
   ]
  },
  {
   "cell_type": "code",
   "execution_count": 26,
   "id": "3cf1ec0c-8f1d-4ba2-b21a-b7b638a951bf",
   "metadata": {},
   "outputs": [],
   "source": []
  },
  {
   "cell_type": "code",
   "execution_count": null,
   "id": "7e5266ea-f410-4e51-aa35-d3e74c97f2dc",
   "metadata": {},
   "outputs": [],
   "source": []
  }
 ],
 "metadata": {
  "kernelspec": {
   "display_name": "Python 3 (ipykernel)",
   "language": "python",
   "name": "python3"
  },
  "language_info": {
   "codemirror_mode": {
    "name": "ipython",
    "version": 3
   },
   "file_extension": ".py",
   "mimetype": "text/x-python",
   "name": "python",
   "nbconvert_exporter": "python",
   "pygments_lexer": "ipython3",
   "version": "3.10.8"
  }
 },
 "nbformat": 4,
 "nbformat_minor": 5
}
