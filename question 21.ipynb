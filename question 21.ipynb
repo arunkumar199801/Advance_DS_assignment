{
 "cells": [
  {
   "cell_type": "markdown",
   "id": "7b6c6ecd-d0a1-4162-93e0-c6e59ea84469",
   "metadata": {},
   "source": [
    "Write a code that takes two tuples as input and returns a new tuple containing elements that are\n",
    "common to both input tuples"
   ]
  },
  {
   "cell_type": "code",
   "execution_count": 9,
   "id": "cb5b2060-4c5e-4877-8310-f1daadf33c4e",
   "metadata": {},
   "outputs": [
    {
     "name": "stdout",
     "output_type": "stream",
     "text": [
      "First tuple:---- (1, 2, 3, 4)\n",
      "---------------------------------------\n",
      "second tuple:---- (3, 4, 5, 6)\n",
      "---------------------------------------\n",
      "Common value in between two yuple which converting into sets {3, 4}\n",
      "-----------------------------------------------------------------------------\n",
      "new tuple containing elements that are common to both input tuples (3, 4)\n"
     ]
    }
   ],
   "source": [
    "tuple1 = (1,2,3,4)\n",
    "print(\"First tuple:----\", tuple1)\n",
    "print(\"---------------------------------------\")\n",
    "tuple2= (3,4,5,6)\n",
    "print(\"second tuple:----\", tuple2)\n",
    "print(\"---------------------------------------\")\n",
    "#converting tuple into set\n",
    "set1 = set(tuple1)\n",
    "set2 = set(tuple2)\n",
    "set3 = set1.intersection(set2)\n",
    "print(\"Common value in between two yuple which converting into sets\",set3)\n",
    "print(\"-----------------------------------------------------------------------------\")\n",
    "#convert set into tuple\n",
    "tuple3 = tuple(set3)\n",
    "print(\"new tuple containing elements that are common to both input tuples\", tuple3)"
   ]
  },
  {
   "cell_type": "code",
   "execution_count": null,
   "id": "db7afca3-69fa-48c9-994d-9b8513d8d1c6",
   "metadata": {},
   "outputs": [],
   "source": []
  },
  {
   "cell_type": "raw",
   "id": "55f6ef32-318a-4524-a8e9-37e5ad414739",
   "metadata": {},
   "source": [
    "using LIST"
   ]
  },
  {
   "cell_type": "code",
   "execution_count": 15,
   "id": "35d089b5-fd2e-4c6f-b82a-fa4f208bbb94",
   "metadata": {},
   "outputs": [
    {
     "name": "stdout",
     "output_type": "stream",
     "text": [
      "First tuple:---- (1, 2, 3, 4)\n",
      "---------------------------------------\n",
      "second tuple:---- (3, 4, 5, 6)\n",
      "---------------------------------------\n",
      "First converted tuple to list:---- {1, 2, 3, 4}\n",
      "---------------------------------------\n",
      "Second converted tuple to list:---- {3, 4, 5, 6}\n",
      "---------------------------------------\n",
      "Common value in between two yuple which converting into sets [3, 4]\n",
      "-----------------------------------------------------------------------------\n",
      "new tuple containing elements that are common to both input tuples (3, 4)\n"
     ]
    }
   ],
   "source": [
    "tuple1 = (1,2,3,4)\n",
    "print(\"First tuple:----\", tuple1)\n",
    "print(\"---------------------------------------\")\n",
    "tuple2= (3,4,5,6)\n",
    "print(\"second tuple:----\", tuple2)\n",
    "print(\"---------------------------------------\")\n",
    "#converting tuple into set\n",
    "list1 = set(tuple1)\n",
    "print(\"First converted tuple to list:----\", list1)\n",
    "print(\"---------------------------------------\")\n",
    "list2 = set(tuple2)\n",
    "print(\"Second converted tuple to list:----\", list2)\n",
    "print(\"---------------------------------------\")\n",
    "list3 = []\n",
    "for value in list1:\n",
    "    if value in list2:\n",
    "        list3.append(value)\n",
    "print(\"Common value in between two yuple which converting into sets\",list3)\n",
    "print(\"-----------------------------------------------------------------------------\")\n",
    "#convert list into tuple\n",
    "tuple3 = tuple(list3)\n",
    "print(\"new tuple containing elements that are common to both input tuples\", tuple3)"
   ]
  },
  {
   "cell_type": "code",
   "execution_count": null,
   "id": "ec5d73a1-a71e-48dc-bca6-8dfea4619eb1",
   "metadata": {},
   "outputs": [],
   "source": []
  }
 ],
 "metadata": {
  "kernelspec": {
   "display_name": "Python 3 (ipykernel)",
   "language": "python",
   "name": "python3"
  },
  "language_info": {
   "codemirror_mode": {
    "name": "ipython",
    "version": 3
   },
   "file_extension": ".py",
   "mimetype": "text/x-python",
   "name": "python",
   "nbconvert_exporter": "python",
   "pygments_lexer": "ipython3",
   "version": "3.10.8"
  }
 },
 "nbformat": 4,
 "nbformat_minor": 5
}
