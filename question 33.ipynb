{
 "cells": [
  {
   "cell_type": "markdown",
   "id": "5f9351fd-21d1-419f-bdad-7a6f5fb05349",
   "metadata": {},
   "source": [
    "Write a code to access a value in a nested dictionary. The function should take the dictionary and a list of\n",
    "keys as input and return the corresponding value. If any of the keys do not exist in the dictionary the\n",
    "function should return None"
   ]
  },
  {
   "cell_type": "code",
   "execution_count": 14,
   "id": "4db222ee-38ee-41e3-9a5c-788f3ec31a89",
   "metadata": {},
   "outputs": [
    {
     "name": "stdout",
     "output_type": "stream",
     "text": [
      "nested dictionary:- {'a': {'b': {'c': 32}}}\n",
      "----------------------------------------------------\n",
      "list of keys:- ['a', 'b', 'c']\n",
      "----------------------------------------------------\n",
      "common dictionary:- {'a': {'b': {'c': 32}}}\n",
      "----------------------------------------------------\n",
      "value of nested dictionary is:- 32\n"
     ]
    }
   ],
   "source": [
    "dic1 = {'a':{\n",
    "    'b':{\n",
    "    'c' : 32\n",
    "    }\n",
    "       }\n",
    "          }\n",
    "print(\"nested dictionary:-\",dic1)\n",
    "print(\"----------------------------------------------------\")\n",
    "list_of_keys = ['a','b','c']\n",
    "print(\"list of keys:-\", list_of_keys)\n",
    "print(\"----------------------------------------------------\")\n",
    "common_dic = dic1\n",
    "print(\"common dictionary:-\",common_dic)\n",
    "print(\"----------------------------------------------------\")\n",
    "for keys in list_of_keys:\n",
    "    if keys in common_dic:\n",
    "        common_dic = common_dic[keys]\n",
    "    else:\n",
    "        common_dic= None\n",
    "        break\n",
    "print(\"value of nested dictionary is:-\",common_dic)"
   ]
  },
  {
   "cell_type": "code",
   "execution_count": 24,
   "id": "f863d6cd-8227-4896-804d-7046bc32fc26",
   "metadata": {},
   "outputs": [
    {
     "name": "stdout",
     "output_type": "stream",
     "text": [
      "nested dictionary:- {'a': {'b': {'c': 32}}, 'x': {'y': {'z': 40}}}\n",
      "----------------------------------------------------\n",
      "list of keys:- ['a', 'b', 'c']\n",
      "----------------------------------------------------\n",
      "common dictionary:- {'a': {'b': {'c': 32}}, 'x': {'y': {'z': 40}}}\n",
      "----------------------------------------------------\n",
      "value of nested dictionary is:- 32\n"
     ]
    }
   ],
   "source": [
    "dic1 = {'a':{\n",
    "    'b':{\n",
    "    'c' : 32\n",
    "    }\n",
    "       },\n",
    "'x':\n",
    "    {'y':\n",
    "        { 'z':40}\n",
    "    }\n",
    "}\n",
    "\n",
    "print(\"nested dictionary:-\",dic1)\n",
    "print(\"----------------------------------------------------\")\n",
    "list_of_keys = ['a','b','c']\n",
    "print(\"list of keys:-\", list_of_keys)\n",
    "print(\"----------------------------------------------------\")\n",
    "common_dic = dic1\n",
    "print(\"common dictionary:-\",common_dic)\n",
    "print(\"----------------------------------------------------\")\n",
    "for keys in list_of_keys:\n",
    "    if isinstance(common_dic, dict) and keys in common_dic:\n",
    "        common_dic = common_dic[keys]\n",
    "    else:\n",
    "        common_dic= None\n",
    "        break\n",
    "print(\"value of nested dictionary is:-\",common_dic)"
   ]
  },
  {
   "cell_type": "code",
   "execution_count": null,
   "id": "48f74878-b13c-4f1b-8db2-75dcf856098b",
   "metadata": {},
   "outputs": [],
   "source": []
  }
 ],
 "metadata": {
  "kernelspec": {
   "display_name": "Python 3 (ipykernel)",
   "language": "python",
   "name": "python3"
  },
  "language_info": {
   "codemirror_mode": {
    "name": "ipython",
    "version": 3
   },
   "file_extension": ".py",
   "mimetype": "text/x-python",
   "name": "python",
   "nbconvert_exporter": "python",
   "pygments_lexer": "ipython3",
   "version": "3.10.8"
  }
 },
 "nbformat": 4,
 "nbformat_minor": 5
}
