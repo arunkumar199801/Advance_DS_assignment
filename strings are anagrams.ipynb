{
 "cells": [
  {
   "cell_type": "raw",
   "id": "5f467423-19a2-494e-979f-693990953c41",
   "metadata": {},
   "source": [
    "Write a code to check if two given strings are anagrams of each others\n",
    "\n",
    "Anagrams are words or phrases formed by rearranging the letters of another word or phrase, using all the original letters exactly once. For example:\n",
    "\n",
    "\"listen\" and \"silent\"\n",
    "\"evil\" and \"vile\"\n",
    "\"dormitory\" and \"dirty room\""
   ]
  },
  {
   "cell_type": "code",
   "execution_count": 44,
   "id": "9810d82a-4b1b-4595-a79c-8947dec36172",
   "metadata": {},
   "outputs": [
    {
     "name": "stdout",
     "output_type": "stream",
     "text": [
      " first string is:- listen\n",
      " Second string is:- silent\n",
      "\"listen\" and \"silent\" are anagrams.\n"
     ]
    }
   ],
   "source": [
    "string1 = 'listen'\n",
    "string2 = 'silent' \n",
    "# Remove any whitespace and convert to lowercase for accurate comparison\n",
    "string1 = string1.replace(\" \",\"\").lower()\n",
    "print(f\" first string is:- {string1}\")\n",
    "string2 = string2.replace(\" \",\"\").lower()\n",
    "print(f\" Second string is:- {string2}\")\n",
    "#checking whther the length of both the string is same if yes then it will proceed forward else write strings are not anagrams\n",
    "if len(string1)!=len(string2):\n",
    "    print(\"strings are not anagrams\")\n",
    "else:\n",
    "    # Create dictionaries to count the frequency of each character\n",
    "    char_count1 = {}\n",
    "    char_count2 = {}\n",
    "\n",
    "    # Count characters for string1\n",
    "    for char in string1:\n",
    "        if char in char_count1:\n",
    "            char_count1[char] += 1\n",
    "        else:\n",
    "            char_count1[char] = 1\n",
    "\n",
    "    # Count characters for string2\n",
    "    for char in string2:\n",
    "        if char in char_count2:\n",
    "            char_count2[char] += 1\n",
    "        else:\n",
    "            char_count2[char] = 1\n",
    "\n",
    "    # Compare the character counts\n",
    "    if char_count1 == char_count2:\n",
    "        print(f'\"{string1}\" and \"{string2}\" are anagrams.')\n",
    "    else:\n",
    "        print(f'\"{string1}\" and \"{string2}\" are not anagrams.')\n",
    "    \n",
    "    \n"
   ]
  },
  {
   "cell_type": "code",
   "execution_count": 66,
   "id": "5bbf36fa-b4d6-46f0-ae83-6e50ee2fca19",
   "metadata": {},
   "outputs": [
    {
     "name": "stdout",
     "output_type": "stream",
     "text": [
      "{'l', 'n', 'i', 't', 'e', 's'}\n",
      "{'l', 'n', 'i', 't', 'e', 's'}\n",
      "string1 and string2 are anagrams.\n"
     ]
    }
   ],
   "source": [
    "string1 = 'listen'\n",
    "#convertig\n",
    "string1 = set(string1)\n",
    "print(string1)\n",
    "string2 = 'silent'\n",
    "string2 = set(string2)\n",
    "print(string2)\n",
    "if string1 == string2:\n",
    "     print(\"string1 and string2 are anagrams.\")\n",
    "else:\n",
    "    print(\"string1 and string2 are not anagrams.\")"
   ]
  },
  {
   "cell_type": "code",
   "execution_count": 73,
   "id": "04c15987-b511-45f4-8da1-328ef49fc6c6",
   "metadata": {},
   "outputs": [
    {
     "name": "stdout",
     "output_type": "stream",
     "text": [
      "string1 and string2 are anagrams.\n"
     ]
    }
   ],
   "source": [
    "string1 = 'listen'\n",
    "string2 = 'silent'\n",
    "string1 = sorted(string1)\n",
    "string2 = sorted(string2)\n",
    "if string1 == string2:\n",
    "    print(\"string1 and string2 are anagrams.\")\n",
    "else:\n",
    "    print(\"string1 and string2 are not anagrams.\")"
   ]
  },
  {
   "cell_type": "code",
   "execution_count": null,
   "id": "21df868b-682f-45cf-a572-8984e5c8e370",
   "metadata": {},
   "outputs": [],
   "source": []
  }
 ],
 "metadata": {
  "kernelspec": {
   "display_name": "Python 3 (ipykernel)",
   "language": "python",
   "name": "python3"
  },
  "language_info": {
   "codemirror_mode": {
    "name": "ipython",
    "version": 3
   },
   "file_extension": ".py",
   "mimetype": "text/x-python",
   "name": "python",
   "nbconvert_exporter": "python",
   "pygments_lexer": "ipython3",
   "version": "3.10.8"
  }
 },
 "nbformat": 4,
 "nbformat_minor": 5
}
