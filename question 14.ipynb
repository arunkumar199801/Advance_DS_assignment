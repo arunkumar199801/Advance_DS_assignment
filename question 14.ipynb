{
 "cells": [
  {
   "cell_type": "markdown",
   "id": "5897599e-7e58-4f83-962c-9c0cc9a3aa21",
   "metadata": {},
   "source": [
    " Write a code to reverse a list in-place without using an\n",
    " built-in reverse function\u001d",
    "\u0012"
   ]
  },
  {
   "cell_type": "code",
   "execution_count": 1,
   "id": "ce7df19f-6bac-4d12-b388-4e6b41383da2",
   "metadata": {},
   "outputs": [
    {
     "data": {
      "text/plain": [
       "[8, 7, 6, 5, 4, 3, 2, 1]"
      ]
     },
     "execution_count": 1,
     "metadata": {},
     "output_type": "execute_result"
    }
   ],
   "source": [
    "list1 = [1,2,3,4,5,6,7,8]\n",
    "list1[::-1]"
   ]
  },
  {
   "cell_type": "code",
   "execution_count": null,
   "id": "c1eb7290-7f32-40ba-936d-6b1cb267f497",
   "metadata": {},
   "outputs": [],
   "source": []
  }
 ],
 "metadata": {
  "kernelspec": {
   "display_name": "Python 3 (ipykernel)",
   "language": "python",
   "name": "python3"
  },
  "language_info": {
   "codemirror_mode": {
    "name": "ipython",
    "version": 3
   },
   "file_extension": ".py",
   "mimetype": "text/x-python",
   "name": "python",
   "nbconvert_exporter": "python",
   "pygments_lexer": "ipython3",
   "version": "3.10.8"
  }
 },
 "nbformat": 4,
 "nbformat_minor": 5
}
