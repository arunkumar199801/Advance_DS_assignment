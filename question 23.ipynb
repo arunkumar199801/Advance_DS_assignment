{
 "cells": [
  {
   "cell_type": "markdown",
   "id": "626921b1-3f47-48eb-8803-2c4d78e33cac",
   "metadata": {},
   "source": [
    "\u0012 Write a code to concatenate two tuples. The function should take two tuples as input and return a new\n",
    "tuple containing elements from both input tuples"
   ]
  },
  {
   "cell_type": "code",
   "execution_count": 4,
   "id": "4af42586-4e90-406c-82c5-b0756532ea74",
   "metadata": {},
   "outputs": [
    {
     "name": "stdout",
     "output_type": "stream",
     "text": [
      "First tuple:---- (1, 2, 3, 4)\n",
      "---------------------------------------\n",
      "second tuple:---- (3, 4, 5, 6)\n",
      "---------------------------------------\n",
      "Concatinating tuple:---- (1, 2, 3, 4, 3, 4, 5, 6)\n"
     ]
    }
   ],
   "source": [
    "tuple1 = (1,2,3,4)\n",
    "print(\"First tuple:----\", tuple1)\n",
    "print(\"---------------------------------------\")\n",
    "tuple2= (3,4,5,6)\n",
    "print(\"second tuple:----\", tuple2)\n",
    "print(\"---------------------------------------\")\n",
    "tuple3 = tuple1 +tuple2\n",
    "print(\"Concatinating tuple:----\", tuple3)"
   ]
  },
  {
   "cell_type": "code",
   "execution_count": null,
   "id": "44f86a51-e366-43b4-aff8-d58f667bc4aa",
   "metadata": {},
   "outputs": [],
   "source": []
  }
 ],
 "metadata": {
  "kernelspec": {
   "display_name": "Python 3 (ipykernel)",
   "language": "python",
   "name": "python3"
  },
  "language_info": {
   "codemirror_mode": {
    "name": "ipython",
    "version": 3
   },
   "file_extension": ".py",
   "mimetype": "text/x-python",
   "name": "python",
   "nbconvert_exporter": "python",
   "pygments_lexer": "ipython3",
   "version": "3.10.8"
  }
 },
 "nbformat": 4,
 "nbformat_minor": 5
}
