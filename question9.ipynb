{
 "cells": [
  {
   "cell_type": "markdown",
   "id": "8b80c42f-7177-4f92-b8f2-7d32910782c5",
   "metadata": {},
   "source": [
    "Write a code to count the number of words in a string"
   ]
  },
  {
   "cell_type": "code",
   "execution_count": 3,
   "id": "e60302b5-0fee-4a3d-8510-d7791a3927f2",
   "metadata": {},
   "outputs": [
    {
     "data": {
      "text/plain": [
       "1"
      ]
     },
     "execution_count": 3,
     "metadata": {},
     "output_type": "execute_result"
    }
   ],
   "source": [
    "txt = \"I love apple, apple are my favorite fruit\"\n",
    "txt.count(\"love\")"
   ]
  },
  {
   "cell_type": "code",
   "execution_count": null,
   "id": "eafa4bb9-8f24-4b83-820b-bd5a780c6ab6",
   "metadata": {},
   "outputs": [],
   "source": []
  }
 ],
 "metadata": {
  "kernelspec": {
   "display_name": "Python 3 (ipykernel)",
   "language": "python",
   "name": "python3"
  },
  "language_info": {
   "codemirror_mode": {
    "name": "ipython",
    "version": 3
   },
   "file_extension": ".py",
   "mimetype": "text/x-python",
   "name": "python",
   "nbconvert_exporter": "python",
   "pygments_lexer": "ipython3",
   "version": "3.10.8"
  }
 },
 "nbformat": 4,
 "nbformat_minor": 5
}
