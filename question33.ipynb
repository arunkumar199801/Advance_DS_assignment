{
 "cells": [
  {
   "cell_type": "markdown",
   "id": "28591c36-c945-46b2-ba76-ec5292da9aaf",
   "metadata": {},
   "source": [
    "\n",
    "Write a code to access a value in a nested dictionary. The function should take the dictionary and a list of\n",
    "keys as input and return the corresponding value. If any of the keys do not exist in the dictionary the\n",
    "function should return None"
   ]
  },
  {
   "cell_type": "code",
   "execution_count": 1,
   "id": "21427ce9-26ee-4ffe-8b3a-012521897654",
   "metadata": {},
   "outputs": [
    {
     "name": "stdout",
     "output_type": "stream",
     "text": [
      "The value is: 42\n"
     ]
    }
   ],
   "source": [
    "# Example nested dictionary\n",
    "nested_dict = {\n",
    "    'a': {\n",
    "        'b': {\n",
    "            'c': 42\n",
    "        }\n",
    "    }\n",
    "}\n",
    "\n",
    "# Example list of keys\n",
    "keys_list = ['a', 'b', 'c']\n",
    "\n",
    "# Initialize current value with the nested dictionary\n",
    "current_value = nested_dict\n",
    "\n",
    "# Access the value using the keys\n",
    "for key in keys_list:\n",
    "    if key in current_value:\n",
    "        current_value = current_value[key]\n",
    "    else:\n",
    "        current_value = None\n",
    "        break\n",
    "\n",
    "# Print the result\n",
    "print(\"The value is:\", current_value)\n"
   ]
  },
  {
   "cell_type": "code",
   "execution_count": null,
   "id": "dda0ad16-868f-4f81-997e-0778c6cfbf95",
   "metadata": {},
   "outputs": [],
   "source": []
  },
  {
   "cell_type": "code",
   "execution_count": null,
   "id": "c7dcb2f8-815c-4a78-ba3f-8755fe4baa78",
   "metadata": {},
   "outputs": [],
   "source": []
  }
 ],
 "metadata": {
  "kernelspec": {
   "display_name": "Python 3 (ipykernel)",
   "language": "python",
   "name": "python3"
  },
  "language_info": {
   "codemirror_mode": {
    "name": "ipython",
    "version": 3
   },
   "file_extension": ".py",
   "mimetype": "text/x-python",
   "name": "python",
   "nbconvert_exporter": "python",
   "pygments_lexer": "ipython3",
   "version": "3.10.8"
  }
 },
 "nbformat": 4,
 "nbformat_minor": 5
}
