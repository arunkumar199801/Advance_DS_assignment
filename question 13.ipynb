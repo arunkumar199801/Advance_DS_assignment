{
 "cells": [
  {
   "cell_type": "markdown",
   "id": "b4dc015e-f4b3-4c6f-9d17-4a5e0395cbdc",
   "metadata": {},
   "source": [
    "Create a code to count the occurrencec of each element in a list and return a dictionary with elements as key\n",
    "and their counts as value"
   ]
  },
  {
   "cell_type": "code",
   "execution_count": 24,
   "id": "9f429216-e01d-44d2-a140-f784f1248aac",
   "metadata": {},
   "outputs": [
    {
     "name": "stdout",
     "output_type": "stream",
     "text": [
      "list with occurence element:- [1, 1, 2, 2, 3, 3, 4, 4, 5, 5, 6, 7]\n",
      "Element 1 occurs 2 times.\n",
      "Element 2 occurs 2 times.\n",
      "Element 3 occurs 2 times.\n",
      "Element 4 occurs 2 times.\n",
      "Element 5 occurs 2 times.\n",
      "Element 6 occurs 1 times.\n",
      "Element 7 occurs 1 times.\n"
     ]
    }
   ],
   "source": [
    "list1 = [1,1,2,2,3,3,4,4,5,5,6,7]\n",
    "print(\"list with occurence element:-\", list1)\n",
    "dic = {}\n",
    "for item in list1:\n",
    "    if item in dic:\n",
    "        dic[item] +=1\n",
    "    else:\n",
    "        dic[item] = 1\n",
    "for item, count in dic.items():\n",
    "    print(f\"Element {item} occurs {count} times.\")\n",
    "       \n"
   ]
  },
  {
   "cell_type": "code",
   "execution_count": null,
   "id": "65a6e491-a727-4342-8730-e64cbe193a2f",
   "metadata": {},
   "outputs": [],
   "source": []
  },
  {
   "cell_type": "raw",
   "id": "754dd9c7-5b86-43fd-adef-300903e3f136",
   "metadata": {},
   "source": [
    "2nd method"
   ]
  },
  {
   "cell_type": "code",
   "execution_count": 26,
   "id": "ef990073-9d10-4f17-95ed-2ebcd4d75088",
   "metadata": {},
   "outputs": [
    {
     "name": "stdout",
     "output_type": "stream",
     "text": [
      "Element 1 occurs 2 times.\n",
      "Element 2 occurs 2 times.\n",
      "Element 3 occurs 2 times.\n",
      "Element 4 occurs 2 times.\n",
      "Element 5 occurs 2 times.\n",
      "Element 6 occurs 1 times.\n",
      "Element 7 occurs 1 times.\n"
     ]
    }
   ],
   "source": [
    "from collections import Counter\n",
    "\n",
    "# Sample list\n",
    "my_list = [1,1,2,2,3,3,4,4,5,5,6,7]\n",
    "\n",
    "# Counting occurrences\n",
    "element_counts = Counter(my_list)\n",
    "\n",
    "# Printing the counts\n",
    "for element, count in element_counts.items():\n",
    "    print(f\"Element {element} occurs {count} times.\")"
   ]
  },
  {
   "cell_type": "code",
   "execution_count": null,
   "id": "a7813094-5db9-4b0d-8273-945798868156",
   "metadata": {},
   "outputs": [],
   "source": []
  }
 ],
 "metadata": {
  "kernelspec": {
   "display_name": "Python 3 (ipykernel)",
   "language": "python",
   "name": "python3"
  },
  "language_info": {
   "codemirror_mode": {
    "name": "ipython",
    "version": 3
   },
   "file_extension": ".py",
   "mimetype": "text/x-python",
   "name": "python",
   "nbconvert_exporter": "python",
   "pygments_lexer": "ipython3",
   "version": "3.10.8"
  }
 },
 "nbformat": 4,
 "nbformat_minor": 5
}
