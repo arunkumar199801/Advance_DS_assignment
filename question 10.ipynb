{
 "cells": [
  {
   "cell_type": "markdown",
   "id": "8a9477e7-76e8-4317-ae9a-a1d34e2f7a4b",
   "metadata": {},
   "source": [
    "Write a code to concatenate two strings without using the + operators"
   ]
  },
  {
   "cell_type": "code",
   "execution_count": 9,
   "id": "af022435-7460-4440-80b9-04a71d2018bb",
   "metadata": {},
   "outputs": [
    {
     "name": "stdout",
     "output_type": "stream",
     "text": [
      "Arunkumar\n"
     ]
    }
   ],
   "source": [
    "str1 = \"Arun\"\n",
    "str2 =\"kumar\"\n",
    "result = \"\"\n",
    "for char in str1:\n",
    "    result += char # Add characters from the first string to the result\n",
    "for char in str2:\n",
    "    result+=char # Add characters from the second string to the result\n",
    "print(result)"
   ]
  },
  {
   "cell_type": "code",
   "execution_count": null,
   "id": "d51032c2-02b9-4d20-a026-33fdb5ec08dd",
   "metadata": {},
   "outputs": [],
   "source": []
  }
 ],
 "metadata": {
  "kernelspec": {
   "display_name": "Python 3 (ipykernel)",
   "language": "python",
   "name": "python3"
  },
  "language_info": {
   "codemirror_mode": {
    "name": "ipython",
    "version": 3
   },
   "file_extension": ".py",
   "mimetype": "text/x-python",
   "name": "python",
   "nbconvert_exporter": "python",
   "pygments_lexer": "ipython3",
   "version": "3.10.8"
  }
 },
 "nbformat": 4,
 "nbformat_minor": 5
}
